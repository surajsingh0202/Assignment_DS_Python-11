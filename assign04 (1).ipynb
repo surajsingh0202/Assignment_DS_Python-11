{
 "cells": [
  {
   "cell_type": "code",
   "execution_count": 1,
   "id": "0a4fe5f4-cee2-4648-b014-17d96cca61e6",
   "metadata": {},
   "outputs": [
    {
     "data": {
      "text/plain": [
       "'\\nMultiprocessing in Python is a built-in package that allows the system to run multiple processes simultaneously.\\n It will enable the breaking of applications into smaller threads that can run independently\\nMultiprocessing is useful for CPU-bound processes, such as computationally heavy tasks since it will benefit from having multiple\\n processors; similar to how multicore computers work faster than computers with a single core.\\n\\n'"
      ]
     },
     "execution_count": 1,
     "metadata": {},
     "output_type": "execute_result"
    }
   ],
   "source": [
    "##Q1. What is multiprocessing in python? Why is it useful?\n",
    "\n",
    "'''\n",
    "Multiprocessing in Python is a built-in package that allows the system to run multiple processes simultaneously.\n",
    " It will enable the breaking of applications into smaller threads that can run independently\n",
    "Multiprocessing is useful for CPU-bound processes, such as computationally heavy tasks since it will benefit from having multiple\n",
    " processors; similar to how multicore computers work faster than computers with a single core.\n",
    "\n",
    "'''"
   ]
  },
  {
   "cell_type": "code",
   "execution_count": 3,
   "id": "6594305c-1e9b-4c4a-ad46-f731e25840e8",
   "metadata": {},
   "outputs": [
    {
     "data": {
      "text/plain": [
       "'\\nMultiprocessing uses two or more CPUs to increase computing power, whereas multithreading uses a single process\\n with multiple code segments to increase computing power.\\n Multithreading focuses on generating computing threads from a single process, \\nwhereas multiprocessing increases computing power by adding CPUs.\\n\\n'"
      ]
     },
     "execution_count": 3,
     "metadata": {},
     "output_type": "execute_result"
    }
   ],
   "source": [
    "##Q2. What are the differences between multiprocessing and multithreading?\n",
    "\n",
    "'''\n",
    "Multiprocessing uses two or more CPUs to increase computing power, whereas multithreading uses a single process\n",
    " with multiple code segments to increase computing power.\n",
    " Multithreading focuses on generating computing threads from a single process, \n",
    "whereas multiprocessing increases computing power by adding CPUs.\n",
    "\n",
    "'''"
   ]
  },
  {
   "cell_type": "code",
   "execution_count": 5,
   "id": "a872b4cd-f178-4262-ac60-bd7d329d6efd",
   "metadata": {},
   "outputs": [
    {
     "data": {
      "text/plain": [
       "'\\n# importing the multiprocessing module\\nimport multiprocessing\\n\\ndef print_cube(num):\\n    \"\"\"\\n    function to print cube of given num\\n    \"\"\"\\n    print(\"Cube: {}\".format(num * num * num))\\n\\ndef print_square(num):\\n    \"\"\"\\n    function to print square of given num\\n    \"\"\"\\n    print(\"Square: {}\".format(num * num))\\n\\nif __name__ == \"__main__\":\\n    # creating processes\\n    p1 = multiprocessing.Process(target=print_square, args=(10, ))\\n    p2 = multiprocessing.Process(target=print_cube, args=(10, ))\\n\\n    # starting process 1\\n    p1.start()\\n    # starting process 2\\n    p2.start()\\n\\n    # wait until process 1 is finished\\n    p1.join()\\n    # wait until process 2 is finished\\n    p2.join()\\n\\n    # both processes finished\\n    print(\"Done!\")\\n'"
      ]
     },
     "execution_count": 5,
     "metadata": {},
     "output_type": "execute_result"
    }
   ],
   "source": [
    "##Q3. Write a python code to create a process using the multiprocessing module.\n",
    "\n",
    "'''\n",
    "# importing the multiprocessing module\n",
    "import multiprocessing\n",
    "\n",
    "def print_cube(num):\n",
    "    \"\"\"\n",
    "    function to print cube of given num\n",
    "    \"\"\"\n",
    "    print(\"Cube: {}\".format(num * num * num))\n",
    "\n",
    "def print_square(num):\n",
    "    \"\"\"\n",
    "    function to print square of given num\n",
    "    \"\"\"\n",
    "    print(\"Square: {}\".format(num * num))\n",
    "\n",
    "if __name__ == \"__main__\":\n",
    "    # creating processes\n",
    "    p1 = multiprocessing.Process(target=print_square, args=(10, ))\n",
    "    p2 = multiprocessing.Process(target=print_cube, args=(10, ))\n",
    "\n",
    "    # starting process 1\n",
    "    p1.start()\n",
    "    # starting process 2\n",
    "    p2.start()\n",
    "\n",
    "    # wait until process 1 is finished\n",
    "    p1.join()\n",
    "    # wait until process 2 is finished\n",
    "    p2.join()\n",
    "\n",
    "    # both processes finished\n",
    "    print(\"Done!\")\n",
    "'''"
   ]
  },
  {
   "cell_type": "code",
   "execution_count": 7,
   "id": "a36b5529-d371-4aa5-9709-75e1c766be36",
   "metadata": {},
   "outputs": [
    {
     "data": {
      "text/plain": [
       "'\\nThe pool distributes the tasks to the available processors using a FIFO scheduling.\\n It works like a map-reduce architecture. It maps the input to the different processors and collects\\n the output from all the processors.\\n\\nUse multithreading for I/O-bound tasks where the program spends a lot of time waiting for external operations to complete. \\nUse multiprocessing for CPU-bound tasks where the goal is to fully utilize the CPU across multiple cores.\\n\\n'"
      ]
     },
     "execution_count": 7,
     "metadata": {},
     "output_type": "execute_result"
    }
   ],
   "source": [
    "##Q4. What is a multiprocessing pool in python? Why is it used?\n",
    "\n",
    "'''\n",
    "The pool distributes the tasks to the available processors using a FIFO scheduling.\n",
    " It works like a map-reduce architecture. It maps the input to the different processors and collects\n",
    " the output from all the processors.\n",
    "\n",
    "Use multithreading for I/O-bound tasks where the program spends a lot of time waiting for external operations to complete. \n",
    "Use multiprocessing for CPU-bound tasks where the goal is to fully utilize the CPU across multiple cores.\n",
    "\n",
    "'''"
   ]
  },
  {
   "cell_type": "code",
   "execution_count": 9,
   "id": "eb0dff39-c75b-4099-bf21-6378733746fc",
   "metadata": {},
   "outputs": [
    {
     "data": {
      "text/plain": [
       "\"\\nfrom multiprocessing import Pool, Process\\n\\nclass Worker(Process):\\n    def __init__(self):\\n        print 'Worker started'\\n        # do some initialization here\\n        super(Worker, self).__init__()\\n\\n    def compute(self, data):\\n        print 'Computing things!'\\n        return data * data\\n\\nif __name__ == '__main__':\\n    # This works fine\\n    worker = Worker()\\n    print worker.compute(3)\\n\\n    # workers get initialized fine\\n    pool = Pool(processes = 4,\\n                initializer = Worker)\\n    data = range(10)\\n    # How to use my worker pool?\\n    result = pool.map(compute, data)\\n\\n\\n\""
      ]
     },
     "execution_count": 9,
     "metadata": {},
     "output_type": "execute_result"
    }
   ],
   "source": [
    "##Q5. How can we create a pool of worker processes in python using the multiprocessing module?\n",
    "'''\n",
    "from multiprocessing import Pool, Process\n",
    "\n",
    "class Worker(Process):\n",
    "    def __init__(self):\n",
    "        print 'Worker started'\n",
    "        # do some initialization here\n",
    "        super(Worker, self).__init__()\n",
    "\n",
    "    def compute(self, data):\n",
    "        print 'Computing things!'\n",
    "        return data * data\n",
    "\n",
    "if __name__ == '__main__':\n",
    "    # This works fine\n",
    "    worker = Worker()\n",
    "    print worker.compute(3)\n",
    "\n",
    "    # workers get initialized fine\n",
    "    pool = Pool(processes = 4,\n",
    "                initializer = Worker)\n",
    "    data = range(10)\n",
    "    # How to use my worker pool?\n",
    "    result = pool.map(compute, data)\n",
    "\n",
    "\n",
    "'''"
   ]
  },
  {
   "cell_type": "code",
   "execution_count": 11,
   "id": "a58195c8-ec58-42f7-8be6-58716085d9ba",
   "metadata": {},
   "outputs": [
    {
     "data": {
      "text/plain": [
       "'\\n# importing the multiprocessing module\\nimport multiprocessing\\nimport os\\n\\ndef worker1():\\n    # printing process id\\n    print(\"ID of process running worker1: {}\".format(os.getpid()))\\n\\ndef worker2():\\n    # printing process id\\n    print(\"ID of process running worker2: {}\".format(os.getpid()))\\n\\nif __name__ == \"__main__\":\\n    # printing main program process id\\n    print(\"ID of main process: {}\".format(os.getpid()))\\n\\n    # creating processes\\n    p1 = multiprocessing.Process(target=worker1)\\n    p2 = multiprocessing.Process(target=worker2)\\n\\n    # starting processes\\n    p1.start()\\n    p2.start()\\n\\n    # process IDs\\n    print(\"ID of process p1: {}\".format(p1.pid))\\n    print(\"ID of process p2: {}\".format(p2.pid))\\n\\n    # wait until processes are finished\\n    p1.join()\\n    p2.join()\\n\\n    # both processes finished\\n    print(\"Both processes finished execution!\")\\n\\n    # check if processes are alive\\n    print(\"Process p1 is alive: {}\".format(p1.is_alive()))\\n    print(\"Process p2 is alive: {}\".format(p2.is_alive()))\\n\\n'"
      ]
     },
     "execution_count": 11,
     "metadata": {},
     "output_type": "execute_result"
    }
   ],
   "source": [
    "'''Q6. Write a python program to create 4 processes, each process should print a different number using the\n",
    "multiprocessing module in python.'''\n",
    "\n",
    "'''\n",
    "# importing the multiprocessing module\n",
    "import multiprocessing\n",
    "import os\n",
    "\n",
    "def worker1():\n",
    "    # printing process id\n",
    "    print(\"ID of process running worker1: {}\".format(os.getpid()))\n",
    "\n",
    "def worker2():\n",
    "    # printing process id\n",
    "    print(\"ID of process running worker2: {}\".format(os.getpid()))\n",
    "\n",
    "if __name__ == \"__main__\":\n",
    "    # printing main program process id\n",
    "    print(\"ID of main process: {}\".format(os.getpid()))\n",
    "\n",
    "    # creating processes\n",
    "    p1 = multiprocessing.Process(target=worker1)\n",
    "    p2 = multiprocessing.Process(target=worker2)\n",
    "\n",
    "    # starting processes\n",
    "    p1.start()\n",
    "    p2.start()\n",
    "\n",
    "    # process IDs\n",
    "    print(\"ID of process p1: {}\".format(p1.pid))\n",
    "    print(\"ID of process p2: {}\".format(p2.pid))\n",
    "\n",
    "    # wait until processes are finished\n",
    "    p1.join()\n",
    "    p2.join()\n",
    "\n",
    "    # both processes finished\n",
    "    print(\"Both processes finished execution!\")\n",
    "\n",
    "    # check if processes are alive\n",
    "    print(\"Process p1 is alive: {}\".format(p1.is_alive()))\n",
    "    print(\"Process p2 is alive: {}\".format(p2.is_alive()))\n",
    "\n",
    "'''"
   ]
  },
  {
   "cell_type": "code",
   "execution_count": null,
   "id": "5f2f838c-709d-4990-892d-3c5412698897",
   "metadata": {},
   "outputs": [],
   "source": []
  }
 ],
 "metadata": {
  "kernelspec": {
   "display_name": "Python 3 (ipykernel)",
   "language": "python",
   "name": "python3"
  },
  "language_info": {
   "codemirror_mode": {
    "name": "ipython",
    "version": 3
   },
   "file_extension": ".py",
   "mimetype": "text/x-python",
   "name": "python",
   "nbconvert_exporter": "python",
   "pygments_lexer": "ipython3",
   "version": "3.12.4"
  }
 },
 "nbformat": 4,
 "nbformat_minor": 5
}
